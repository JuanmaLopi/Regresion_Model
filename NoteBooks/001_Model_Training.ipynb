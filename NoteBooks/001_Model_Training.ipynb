{
 "cells": [
  {
   "cell_type": "code",
   "execution_count": 4,
   "metadata": {},
   "outputs": [
    {
     "data": {
      "text/plain": [
       "{'Linear Regression': 0.7631982762214953,\n",
       " 'Ridge': 0.764932422361992,\n",
       " 'Lasso': -0.0010128125203199279,\n",
       " 'ElasticNet': -0.0010128125203199279,\n",
       " 'Decision Tree': 0.6161375078327344,\n",
       " 'Random Forest': 0.8157932154005578,\n",
       " 'Support Vector Regressor': -0.007542022649132507}"
      ]
     },
     "execution_count": 4,
     "metadata": {},
     "output_type": "execute_result"
    }
   ],
   "source": [
    "import pandas as pd\n",
    "from sklearn.model_selection import train_test_split\n",
    "from sklearn.linear_model import LinearRegression, Ridge, Lasso, ElasticNet\n",
    "from sklearn.tree import DecisionTreeRegressor\n",
    "from sklearn.ensemble import RandomForestRegressor\n",
    "from sklearn.svm import SVR\n",
    "from sklearn.metrics import r2_score\n",
    "\n",
    "data = pd.read_csv(\"../data/Model_Data.csv\")\n",
    "\n",
    "# Separar variables dependientes e independientes\n",
    "X = data.drop(columns=['Happiness Score'])\n",
    "y = data['Happiness Score']\n",
    "\n",
    "# Realizar la partición de los datos en 70% entrenamiento y 30% prueba\n",
    "X_train, X_test, y_train, y_test = train_test_split(X, y, test_size=0.3, random_state=42)\n",
    "\n",
    "# Instanciar los modelos de regresión\n",
    "models = {\n",
    "    \"Linear Regression\": LinearRegression(),\n",
    "    \"Ridge\": Ridge(),\n",
    "    \"Lasso\": Lasso(),\n",
    "    \"ElasticNet\": ElasticNet(),\n",
    "    \"Decision Tree\": DecisionTreeRegressor(random_state=42),\n",
    "    \"Random Forest\": RandomForestRegressor(random_state=42),\n",
    "    \"Support Vector Regressor\": SVR()\n",
    "}\n",
    "\n",
    "# Entrenar y evaluar cada modelo\n",
    "results = {}\n",
    "for name, model in models.items():\n",
    "    model.fit(X_train, y_train)  # Entrenamiento\n",
    "    y_pred = model.predict(X_test)  # Predicción\n",
    "    r2 = r2_score(y_test, y_pred)  # Cálculo de R^2\n",
    "    results[name] = r2  # Guardar resultado\n",
    "\n",
    "results"
   ]
  },
  {
   "cell_type": "code",
   "execution_count": 5,
   "metadata": {},
   "outputs": [
    {
     "name": "stderr",
     "output_type": "stream",
     "text": [
      "c:\\Users\\juanm\\AppData\\Local\\Programs\\Python\\Python311\\Lib\\site-packages\\sklearn\\model_selection\\_validation.py:540: FitFailedWarning: \n",
      "324 fits failed out of a total of 972.\n",
      "The score on these train-test partitions for these parameters will be set to nan.\n",
      "If these failures are not expected, you can try to debug them by setting error_score='raise'.\n",
      "\n",
      "Below are more details about the failures:\n",
      "--------------------------------------------------------------------------------\n",
      "246 fits failed with the following error:\n",
      "Traceback (most recent call last):\n",
      "  File \"c:\\Users\\juanm\\AppData\\Local\\Programs\\Python\\Python311\\Lib\\site-packages\\sklearn\\model_selection\\_validation.py\", line 888, in _fit_and_score\n",
      "    estimator.fit(X_train, y_train, **fit_params)\n",
      "  File \"c:\\Users\\juanm\\AppData\\Local\\Programs\\Python\\Python311\\Lib\\site-packages\\sklearn\\base.py\", line 1466, in wrapper\n",
      "    estimator._validate_params()\n",
      "  File \"c:\\Users\\juanm\\AppData\\Local\\Programs\\Python\\Python311\\Lib\\site-packages\\sklearn\\base.py\", line 666, in _validate_params\n",
      "    validate_parameter_constraints(\n",
      "  File \"c:\\Users\\juanm\\AppData\\Local\\Programs\\Python\\Python311\\Lib\\site-packages\\sklearn\\utils\\_param_validation.py\", line 95, in validate_parameter_constraints\n",
      "    raise InvalidParameterError(\n",
      "sklearn.utils._param_validation.InvalidParameterError: The 'max_features' parameter of RandomForestRegressor must be an int in the range [1, inf), a float in the range (0.0, 1.0], a str among {'sqrt', 'log2'} or None. Got 'auto' instead.\n",
      "\n",
      "--------------------------------------------------------------------------------\n",
      "78 fits failed with the following error:\n",
      "Traceback (most recent call last):\n",
      "  File \"c:\\Users\\juanm\\AppData\\Local\\Programs\\Python\\Python311\\Lib\\site-packages\\sklearn\\model_selection\\_validation.py\", line 888, in _fit_and_score\n",
      "    estimator.fit(X_train, y_train, **fit_params)\n",
      "  File \"c:\\Users\\juanm\\AppData\\Local\\Programs\\Python\\Python311\\Lib\\site-packages\\sklearn\\base.py\", line 1466, in wrapper\n",
      "    estimator._validate_params()\n",
      "  File \"c:\\Users\\juanm\\AppData\\Local\\Programs\\Python\\Python311\\Lib\\site-packages\\sklearn\\base.py\", line 666, in _validate_params\n",
      "    validate_parameter_constraints(\n",
      "  File \"c:\\Users\\juanm\\AppData\\Local\\Programs\\Python\\Python311\\Lib\\site-packages\\sklearn\\utils\\_param_validation.py\", line 95, in validate_parameter_constraints\n",
      "    raise InvalidParameterError(\n",
      "sklearn.utils._param_validation.InvalidParameterError: The 'max_features' parameter of RandomForestRegressor must be an int in the range [1, inf), a float in the range (0.0, 1.0], a str among {'log2', 'sqrt'} or None. Got 'auto' instead.\n",
      "\n",
      "  warnings.warn(some_fits_failed_message, FitFailedWarning)\n",
      "c:\\Users\\juanm\\AppData\\Local\\Programs\\Python\\Python311\\Lib\\site-packages\\sklearn\\model_selection\\_search.py:1103: UserWarning: One or more of the test scores are non-finite: [       nan        nan        nan        nan        nan        nan\n",
      "        nan        nan        nan        nan        nan        nan\n",
      "        nan        nan        nan        nan        nan        nan\n",
      "        nan        nan        nan        nan        nan        nan\n",
      "        nan        nan        nan 0.78942925 0.79273063 0.7938318\n",
      " 0.78903579 0.79229856 0.79609038 0.78064515 0.78183388 0.78638512\n",
      " 0.78306377 0.7868743  0.78969662 0.78345118 0.78542806 0.78846564\n",
      " 0.78326224 0.78248478 0.78535109 0.77734874 0.78086861 0.78351201\n",
      " 0.77734874 0.78086861 0.78351201 0.77632325 0.77992535 0.78331012\n",
      " 0.78942925 0.79273063 0.7938318  0.78903579 0.79229856 0.79609038\n",
      " 0.78064515 0.78183388 0.78638512 0.78306377 0.7868743  0.78969662\n",
      " 0.78345118 0.78542806 0.78846564 0.78326224 0.78248478 0.78535109\n",
      " 0.77734874 0.78086861 0.78351201 0.77734874 0.78086861 0.78351201\n",
      " 0.77632325 0.77992535 0.78331012        nan        nan        nan\n",
      "        nan        nan        nan        nan        nan        nan\n",
      "        nan        nan        nan        nan        nan        nan\n",
      "        nan        nan        nan        nan        nan        nan\n",
      "        nan        nan        nan        nan        nan        nan\n",
      " 0.79157861 0.79384135 0.79658634 0.78771801 0.79071231 0.79301327\n",
      " 0.78211046 0.78259432 0.78600238 0.79221577 0.79191837 0.79321132\n",
      " 0.78577025 0.7879893  0.78916066 0.7830331  0.78287037 0.78567404\n",
      " 0.7768347  0.78051777 0.78343607 0.7768347  0.78051777 0.78343607\n",
      " 0.77655753 0.78070501 0.78373155 0.79157861 0.79384135 0.79658634\n",
      " 0.78771801 0.79071231 0.79301327 0.78211046 0.78259432 0.78600238\n",
      " 0.79221577 0.79191837 0.79321132 0.78577025 0.7879893  0.78916066\n",
      " 0.7830331  0.78287037 0.78567404 0.7768347  0.78051777 0.78343607\n",
      " 0.7768347  0.78051777 0.78343607 0.77655753 0.78070501 0.78373155\n",
      "        nan        nan        nan        nan        nan        nan\n",
      "        nan        nan        nan        nan        nan        nan\n",
      "        nan        nan        nan        nan        nan        nan\n",
      "        nan        nan        nan        nan        nan        nan\n",
      "        nan        nan        nan 0.78935297 0.79248413 0.79384081\n",
      " 0.78903579 0.79229856 0.79609038 0.78064515 0.78183388 0.78638512\n",
      " 0.78306377 0.7868743  0.78969662 0.78345118 0.78542806 0.78846564\n",
      " 0.78326224 0.78248478 0.78535109 0.77734874 0.78086861 0.78351201\n",
      " 0.77734874 0.78086861 0.78351201 0.77632325 0.77992535 0.78331012\n",
      " 0.78935297 0.79248413 0.79384081 0.78903579 0.79229856 0.79609038\n",
      " 0.78064515 0.78183388 0.78638512 0.78306377 0.7868743  0.78969662\n",
      " 0.78345118 0.78542806 0.78846564 0.78326224 0.78248478 0.78535109\n",
      " 0.77734874 0.78086861 0.78351201 0.77734874 0.78086861 0.78351201\n",
      " 0.77632325 0.77992535 0.78331012        nan        nan        nan\n",
      "        nan        nan        nan        nan        nan        nan\n",
      "        nan        nan        nan        nan        nan        nan\n",
      "        nan        nan        nan        nan        nan        nan\n",
      "        nan        nan        nan        nan        nan        nan\n",
      " 0.78942925 0.79273063 0.7938318  0.78903579 0.79229856 0.79609038\n",
      " 0.78064515 0.78183388 0.78638512 0.78306377 0.7868743  0.78969662\n",
      " 0.78345118 0.78542806 0.78846564 0.78326224 0.78248478 0.78535109\n",
      " 0.77734874 0.78086861 0.78351201 0.77734874 0.78086861 0.78351201\n",
      " 0.77632325 0.77992535 0.78331012 0.78942925 0.79273063 0.7938318\n",
      " 0.78903579 0.79229856 0.79609038 0.78064515 0.78183388 0.78638512\n",
      " 0.78306377 0.7868743  0.78969662 0.78345118 0.78542806 0.78846564\n",
      " 0.78326224 0.78248478 0.78535109 0.77734874 0.78086861 0.78351201\n",
      " 0.77734874 0.78086861 0.78351201 0.77632325 0.77992535 0.78331012]\n",
      "  warnings.warn(\n"
     ]
    },
    {
     "name": "stdout",
     "output_type": "stream",
     "text": [
      "Mejores Hiperparámetros: {'max_depth': 10, 'max_features': 'sqrt', 'min_samples_leaf': 1, 'min_samples_split': 2, 'n_estimators': 200}\n",
      "R² del modelo optimizado: 0.8148766106896578\n"
     ]
    }
   ],
   "source": [
    "from sklearn.model_selection import GridSearchCV\n",
    "\n",
    "# Definir el espacio de búsqueda para los hiperparámetros\n",
    "param_grid = {\n",
    "    'n_estimators': [50, 100, 200],\n",
    "    'max_depth': [None, 10, 20, 30],\n",
    "    'min_samples_split': [2, 5, 10],\n",
    "    'min_samples_leaf': [1, 2, 4],\n",
    "    'max_features': ['auto', 'sqrt', 'log2']\n",
    "}\n",
    "\n",
    "# Instanciar GridSearchCV\n",
    "grid_search = GridSearchCV(estimator=RandomForestRegressor(random_state=42),\n",
    "                           param_grid=param_grid,\n",
    "                           cv=3,  # Número de pliegues para la validación cruzada\n",
    "                           n_jobs=-1,  # Utilizar todos los núcleos disponibles\n",
    "                           scoring='r2')\n",
    "\n",
    "# Ajustar el modelo\n",
    "grid_search.fit(X_train, y_train)\n",
    "\n",
    "# Mostrar los mejores hiperparámetros\n",
    "print(\"Mejores Hiperparámetros:\", grid_search.best_params_)\n",
    "\n",
    "# Evaluar el modelo ajustado\n",
    "best_rf = grid_search.best_estimator_\n",
    "y_pred_best = best_rf.predict(X_test)\n",
    "r2_best = r2_score(y_test, y_pred_best)\n",
    "print(\"R² del modelo optimizado:\", r2_best)\n"
   ]
  },
  {
   "cell_type": "code",
   "execution_count": 6,
   "metadata": {},
   "outputs": [
    {
     "name": "stdout",
     "output_type": "stream",
     "text": [
      "1. Característica: Health (Life Expectancy) (Importancia: 0.29159933702799695)\n",
      "2. Característica: Economy (GDP per Capita) (Importancia: 0.2884084456453942)\n",
      "3. Característica: Social support (Importancia: 0.14561332537483956)\n",
      "4. Característica: Freedom (Importancia: 0.11995972162382947)\n",
      "5. Característica: Trust (Government Corruption) (Importancia: 0.07940218541105797)\n",
      "6. Característica: Generosity (Importancia: 0.05960343914474325)\n",
      "7. Característica: Year (Importancia: 0.015413545772138429)\n"
     ]
    }
   ],
   "source": [
    "import numpy as np\n",
    "\n",
    "# Obtener importancias de características\n",
    "importances = best_rf.feature_importances_\n",
    "indices = np.argsort(importances)[::-1]\n",
    "\n",
    "# Mostrar las características más importantes\n",
    "for f in range(X.shape[1]):\n",
    "    print(f\"{f + 1}. Característica: {X.columns[indices[f]]} (Importancia: {importances[indices[f]]})\")\n"
   ]
  },
  {
   "cell_type": "code",
   "execution_count": 7,
   "metadata": {},
   "outputs": [
    {
     "name": "stdout",
     "output_type": "stream",
     "text": [
      "R² con XGBoost: 0.7825527918390888\n"
     ]
    }
   ],
   "source": [
    "from xgboost import XGBRegressor\n",
    "\n",
    "# Instanciar y ajustar el modelo XGBoost\n",
    "xgb_model = XGBRegressor(random_state=42)\n",
    "xgb_model.fit(X_train, y_train)\n",
    "y_pred_xgb = xgb_model.predict(X_test)\n",
    "r2_xgb = r2_score(y_test, y_pred_xgb)\n",
    "print(\"R² con XGBoost:\", r2_xgb)\n"
   ]
  },
  {
   "cell_type": "code",
   "execution_count": 8,
   "metadata": {},
   "outputs": [],
   "source": [
    "from sklearn.preprocessing import StandardScaler\n",
    "\n",
    "scaler = StandardScaler()\n",
    "X_scaled = scaler.fit_transform(X)\n",
    "\n",
    "# Ahora usa X_scaled en lugar de X para tus modelos\n"
   ]
  },
  {
   "cell_type": "code",
   "execution_count": 9,
   "metadata": {},
   "outputs": [
    {
     "name": "stdout",
     "output_type": "stream",
     "text": [
      "R² promedio con validación cruzada: 0.7941562526576961\n"
     ]
    }
   ],
   "source": [
    "from sklearn.model_selection import cross_val_score\n",
    "\n",
    "cross_val_scores = cross_val_score(best_rf, X, y, cv=5, scoring='r2')\n",
    "print(\"R² promedio con validación cruzada:\", np.mean(cross_val_scores))\n"
   ]
  }
 ],
 "metadata": {
  "kernelspec": {
   "display_name": "Python 3",
   "language": "python",
   "name": "python3"
  },
  "language_info": {
   "codemirror_mode": {
    "name": "ipython",
    "version": 3
   },
   "file_extension": ".py",
   "mimetype": "text/x-python",
   "name": "python",
   "nbconvert_exporter": "python",
   "pygments_lexer": "ipython3",
   "version": "3.11.5"
  }
 },
 "nbformat": 4,
 "nbformat_minor": 2
}
