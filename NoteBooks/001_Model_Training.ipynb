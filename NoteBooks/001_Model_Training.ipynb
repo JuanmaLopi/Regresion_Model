{
 "cells": [
  {
   "cell_type": "code",
   "execution_count": null,
   "metadata": {},
   "outputs": [],
   "source": [
    "from sklearn.preprocessing import StandardScaler\n",
    "\n",
    "scaler = StandardScaler()\n",
    "X_scaled = scaler.fit_transform(X)\n",
    "\n",
    "# Ahora usa X_scaled en lugar de X para tus modelos"
   ]
  },
  {
   "cell_type": "code",
   "execution_count": 17,
   "metadata": {},
   "outputs": [
    {
     "name": "stdout",
     "output_type": "stream",
     "text": [
      "Linear Regression: MSE = 0.0755, R2 Score = 0.9393\n",
      "Ridge Regression: MSE = 0.0941, R2 Score = 0.9243\n",
      "Lasso Regression: MSE = 0.4664, R2 Score = 0.6249\n",
      "Elastic Net Regression: MSE = 0.4189, R2 Score = 0.6632\n",
      "K-Nearest Neighbors Regression: MSE = 0.1789, R2 Score = 0.8562\n",
      "Random Forest Regression: MSE = 0.1942, R2 Score = 0.8438\n",
      "XGBoost Regression: MSE = 0.1386, R2 Score = 0.8885\n"
     ]
    }
   ],
   "source": [
    "import pandas as pd\n",
    "from sklearn.model_selection import train_test_split\n",
    "from sklearn.linear_model import LinearRegression, Ridge, Lasso, ElasticNet\n",
    "from sklearn.neighbors import KNeighborsRegressor\n",
    "from sklearn.ensemble import RandomForestRegressor\n",
    "from xgboost import XGBRegressor\n",
    "from sklearn.metrics import mean_squared_error, r2_score\n",
    "\n",
    "# Cargar el archivo de datos\n",
    "file_path = '../data/Model_Data.csv'\n",
    "data = pd.read_csv(file_path)\n",
    "\n",
    "# Convertir la columna 'Country' a variables dummy\n",
    "data = pd.get_dummies(data, columns=['Country'], drop_first=True)\n",
    "\n",
    "# Separar variables predictoras y variable objetivo\n",
    "X = data.drop(columns=['Happiness Score'])\n",
    "y = data['Happiness Score']\n",
    "\n",
    "# Dividir los datos en conjunto de entrenamiento y prueba\n",
    "X_train, X_test, y_train, y_test = train_test_split(X, y, test_size=0.2, random_state=42)\n",
    "\n",
    "# Definir los modelos de regresión\n",
    "models = {\n",
    "    \"Linear Regression\": LinearRegression(),\n",
    "    \"Ridge Regression\": Ridge(alpha=1.0),\n",
    "    \"Lasso Regression\": Lasso(alpha=0.1),\n",
    "    \"Elastic Net Regression\": ElasticNet(alpha=0.1, l1_ratio=0.5),\n",
    "    \"K-Nearest Neighbors Regression\": KNeighborsRegressor(n_neighbors=5),\n",
    "    \"Random Forest Regression\": RandomForestRegressor(n_estimators=100, random_state=42),\n",
    "    \"XGBoost Regression\": XGBRegressor(n_estimators=100, random_state=42)\n",
    "}\n",
    "\n",
    "# Entrenar los modelos y evaluar su rendimiento\n",
    "results = {}\n",
    "for model_name, model in models.items():\n",
    "    # Entrenar el modelo\n",
    "    model.fit(X_train, y_train)\n",
    "    \n",
    "    # Realizar predicciones en el conjunto de prueba\n",
    "    y_pred = model.predict(X_test)\n",
    "    \n",
    "    # Calcular métricas\n",
    "    mse = mean_squared_error(y_test, y_pred)\n",
    "    r2 = r2_score(y_test, y_pred)\n",
    "    results[model_name] = {\"Mean Squared Error\": mse, \"R2 Score\": r2}\n",
    "\n",
    "# Mostrar los resultados de los modelos\n",
    "for model_name, metrics in results.items():\n",
    "    print(f\"{model_name}: MSE = {metrics['Mean Squared Error']:.4f}, R2 Score = {metrics['R2 Score']:.4f}\")\n"
   ]
  },
  {
   "cell_type": "code",
   "execution_count": 18,
   "metadata": {},
   "outputs": [
    {
     "name": "stdout",
     "output_type": "stream",
     "text": [
      "Mejor puntuación R2: 0.8816568845342886\n",
      "Mejores parámetros: {'subsample': 1.0, 'n_estimators': 300, 'max_depth': 3, 'learning_rate': 0.1, 'colsample_bytree': 1.0}\n"
     ]
    }
   ],
   "source": [
    "from sklearn.model_selection import RandomizedSearchCV\n",
    "from xgboost import XGBRegressor\n",
    "\n",
    "# Configurar la búsqueda de hiperparámetros para XGBoost\n",
    "param_grid = {\n",
    "    'n_estimators': [100, 200, 300],\n",
    "    'learning_rate': [0.01, 0.05, 0.1],\n",
    "    'max_depth': [3, 5, 7, 10],\n",
    "    'subsample': [0.6, 0.8, 1.0],\n",
    "    'colsample_bytree': [0.6, 0.8, 1.0]\n",
    "}\n",
    "\n",
    "xgb_model = XGBRegressor(random_state=42)\n",
    "random_search = RandomizedSearchCV(estimator=xgb_model, param_distributions=param_grid,\n",
    "                                   n_iter=50, scoring='r2', cv=5, random_state=42, n_jobs=-1)\n",
    "\n",
    "random_search.fit(X_train, y_train)\n",
    "\n",
    "# Mejor estimador y mejor puntuación\n",
    "best_model = random_search.best_estimator_\n",
    "print(\"Mejor puntuación R2:\", random_search.best_score_)\n",
    "print(\"Mejores parámetros:\", random_search.best_params_)\n"
   ]
  },
  {
   "cell_type": "code",
   "execution_count": 6,
   "metadata": {},
   "outputs": [
    {
     "name": "stderr",
     "output_type": "stream",
     "text": [
      "c:\\Users\\juanm\\AppData\\Local\\Programs\\Python\\Python311\\Lib\\site-packages\\sklearn\\model_selection\\_validation.py:540: FitFailedWarning: \n",
      "324 fits failed out of a total of 972.\n",
      "The score on these train-test partitions for these parameters will be set to nan.\n",
      "If these failures are not expected, you can try to debug them by setting error_score='raise'.\n",
      "\n",
      "Below are more details about the failures:\n",
      "--------------------------------------------------------------------------------\n",
      "215 fits failed with the following error:\n",
      "Traceback (most recent call last):\n",
      "  File \"c:\\Users\\juanm\\AppData\\Local\\Programs\\Python\\Python311\\Lib\\site-packages\\sklearn\\model_selection\\_validation.py\", line 888, in _fit_and_score\n",
      "    estimator.fit(X_train, y_train, **fit_params)\n",
      "  File \"c:\\Users\\juanm\\AppData\\Local\\Programs\\Python\\Python311\\Lib\\site-packages\\sklearn\\base.py\", line 1466, in wrapper\n",
      "    estimator._validate_params()\n",
      "  File \"c:\\Users\\juanm\\AppData\\Local\\Programs\\Python\\Python311\\Lib\\site-packages\\sklearn\\base.py\", line 666, in _validate_params\n",
      "    validate_parameter_constraints(\n",
      "  File \"c:\\Users\\juanm\\AppData\\Local\\Programs\\Python\\Python311\\Lib\\site-packages\\sklearn\\utils\\_param_validation.py\", line 95, in validate_parameter_constraints\n",
      "    raise InvalidParameterError(\n",
      "sklearn.utils._param_validation.InvalidParameterError: The 'max_features' parameter of RandomForestRegressor must be an int in the range [1, inf), a float in the range (0.0, 1.0], a str among {'sqrt', 'log2'} or None. Got 'auto' instead.\n",
      "\n",
      "--------------------------------------------------------------------------------\n",
      "109 fits failed with the following error:\n",
      "Traceback (most recent call last):\n",
      "  File \"c:\\Users\\juanm\\AppData\\Local\\Programs\\Python\\Python311\\Lib\\site-packages\\sklearn\\model_selection\\_validation.py\", line 888, in _fit_and_score\n",
      "    estimator.fit(X_train, y_train, **fit_params)\n",
      "  File \"c:\\Users\\juanm\\AppData\\Local\\Programs\\Python\\Python311\\Lib\\site-packages\\sklearn\\base.py\", line 1466, in wrapper\n",
      "    estimator._validate_params()\n",
      "  File \"c:\\Users\\juanm\\AppData\\Local\\Programs\\Python\\Python311\\Lib\\site-packages\\sklearn\\base.py\", line 666, in _validate_params\n",
      "    validate_parameter_constraints(\n",
      "  File \"c:\\Users\\juanm\\AppData\\Local\\Programs\\Python\\Python311\\Lib\\site-packages\\sklearn\\utils\\_param_validation.py\", line 95, in validate_parameter_constraints\n",
      "    raise InvalidParameterError(\n",
      "sklearn.utils._param_validation.InvalidParameterError: The 'max_features' parameter of RandomForestRegressor must be an int in the range [1, inf), a float in the range (0.0, 1.0], a str among {'log2', 'sqrt'} or None. Got 'auto' instead.\n",
      "\n",
      "  warnings.warn(some_fits_failed_message, FitFailedWarning)\n",
      "c:\\Users\\juanm\\AppData\\Local\\Programs\\Python\\Python311\\Lib\\site-packages\\numpy\\ma\\core.py:2820: RuntimeWarning: invalid value encountered in cast\n",
      "  _data = np.array(data, dtype=dtype, copy=copy,\n",
      "c:\\Users\\juanm\\AppData\\Local\\Programs\\Python\\Python311\\Lib\\site-packages\\sklearn\\model_selection\\_search.py:1103: UserWarning: One or more of the test scores are non-finite: [       nan        nan        nan        nan        nan        nan\n",
      "        nan        nan        nan        nan        nan        nan\n",
      "        nan        nan        nan        nan        nan        nan\n",
      "        nan        nan        nan        nan        nan        nan\n",
      "        nan        nan        nan 0.78942925 0.79273063 0.7938318\n",
      " 0.78903579 0.79229856 0.79609038 0.78064515 0.78183388 0.78638512\n",
      " 0.78306377 0.7868743  0.78969662 0.78345118 0.78542806 0.78846564\n",
      " 0.78326224 0.78248478 0.78535109 0.77734874 0.78086861 0.78351201\n",
      " 0.77734874 0.78086861 0.78351201 0.77632325 0.77992535 0.78331012\n",
      " 0.78942925 0.79273063 0.7938318  0.78903579 0.79229856 0.79609038\n",
      " 0.78064515 0.78183388 0.78638512 0.78306377 0.7868743  0.78969662\n",
      " 0.78345118 0.78542806 0.78846564 0.78326224 0.78248478 0.78535109\n",
      " 0.77734874 0.78086861 0.78351201 0.77734874 0.78086861 0.78351201\n",
      " 0.77632325 0.77992535 0.78331012        nan        nan        nan\n",
      "        nan        nan        nan        nan        nan        nan\n",
      "        nan        nan        nan        nan        nan        nan\n",
      "        nan        nan        nan        nan        nan        nan\n",
      "        nan        nan        nan        nan        nan        nan\n",
      " 0.79157861 0.79384135 0.79658634 0.78771801 0.79071231 0.79301327\n",
      " 0.78211046 0.78259432 0.78600238 0.79221577 0.79191837 0.79321132\n",
      " 0.78577025 0.7879893  0.78916066 0.7830331  0.78287037 0.78567404\n",
      " 0.7768347  0.78051777 0.78343607 0.7768347  0.78051777 0.78343607\n",
      " 0.77655753 0.78070501 0.78373155 0.79157861 0.79384135 0.79658634\n",
      " 0.78771801 0.79071231 0.79301327 0.78211046 0.78259432 0.78600238\n",
      " 0.79221577 0.79191837 0.79321132 0.78577025 0.7879893  0.78916066\n",
      " 0.7830331  0.78287037 0.78567404 0.7768347  0.78051777 0.78343607\n",
      " 0.7768347  0.78051777 0.78343607 0.77655753 0.78070501 0.78373155\n",
      "        nan        nan        nan        nan        nan        nan\n",
      "        nan        nan        nan        nan        nan        nan\n",
      "        nan        nan        nan        nan        nan        nan\n",
      "        nan        nan        nan        nan        nan        nan\n",
      "        nan        nan        nan 0.78935297 0.79248413 0.79384081\n",
      " 0.78903579 0.79229856 0.79609038 0.78064515 0.78183388 0.78638512\n",
      " 0.78306377 0.7868743  0.78969662 0.78345118 0.78542806 0.78846564\n",
      " 0.78326224 0.78248478 0.78535109 0.77734874 0.78086861 0.78351201\n",
      " 0.77734874 0.78086861 0.78351201 0.77632325 0.77992535 0.78331012\n",
      " 0.78935297 0.79248413 0.79384081 0.78903579 0.79229856 0.79609038\n",
      " 0.78064515 0.78183388 0.78638512 0.78306377 0.7868743  0.78969662\n",
      " 0.78345118 0.78542806 0.78846564 0.78326224 0.78248478 0.78535109\n",
      " 0.77734874 0.78086861 0.78351201 0.77734874 0.78086861 0.78351201\n",
      " 0.77632325 0.77992535 0.78331012        nan        nan        nan\n",
      "        nan        nan        nan        nan        nan        nan\n",
      "        nan        nan        nan        nan        nan        nan\n",
      "        nan        nan        nan        nan        nan        nan\n",
      "        nan        nan        nan        nan        nan        nan\n",
      " 0.78942925 0.79273063 0.7938318  0.78903579 0.79229856 0.79609038\n",
      " 0.78064515 0.78183388 0.78638512 0.78306377 0.7868743  0.78969662\n",
      " 0.78345118 0.78542806 0.78846564 0.78326224 0.78248478 0.78535109\n",
      " 0.77734874 0.78086861 0.78351201 0.77734874 0.78086861 0.78351201\n",
      " 0.77632325 0.77992535 0.78331012 0.78942925 0.79273063 0.7938318\n",
      " 0.78903579 0.79229856 0.79609038 0.78064515 0.78183388 0.78638512\n",
      " 0.78306377 0.7868743  0.78969662 0.78345118 0.78542806 0.78846564\n",
      " 0.78326224 0.78248478 0.78535109 0.77734874 0.78086861 0.78351201\n",
      " 0.77734874 0.78086861 0.78351201 0.77632325 0.77992535 0.78331012]\n",
      "  warnings.warn(\n"
     ]
    },
    {
     "name": "stdout",
     "output_type": "stream",
     "text": [
      "Mejores Hiperparámetros: {'max_depth': 10, 'max_features': 'sqrt', 'min_samples_leaf': 1, 'min_samples_split': 2, 'n_estimators': 200}\n",
      "R² del modelo optimizado: 0.8148766106896578\n"
     ]
    }
   ],
   "source": [
    "from sklearn.model_selection import GridSearchCV\n",
    "\n",
    "# Definir el espacio de búsqueda para los hiperparámetros\n",
    "param_grid = {\n",
    "    'n_estimators': [50, 100, 200],\n",
    "    'max_depth': [None, 10, 20, 30],\n",
    "    'min_samples_split': [2, 5, 10],\n",
    "    'min_samples_leaf': [1, 2, 4],\n",
    "    'max_features': ['auto', 'sqrt', 'log2']\n",
    "}\n",
    "\n",
    "# Instanciar GridSearchCV\n",
    "grid_search = GridSearchCV(estimator=RandomForestRegressor(random_state=42),\n",
    "                           param_grid=param_grid,\n",
    "                           cv=3,  # Número de pliegues para la validación cruzada\n",
    "                           n_jobs=-1,  # Utilizar todos los núcleos disponibles\n",
    "                           scoring='r2')\n",
    "\n",
    "# Ajustar el modelo\n",
    "grid_search.fit(X_train, y_train)\n",
    "\n",
    "# Mostrar los mejores hiperparámetros\n",
    "print(\"Mejores Hiperparámetros:\", grid_search.best_params_)\n",
    "\n",
    "# Evaluar el modelo ajustado\n",
    "best_rf = grid_search.best_estimator_\n",
    "y_pred_best = best_rf.predict(X_test)\n",
    "r2_best = r2_score(y_test, y_pred_best)\n",
    "print(\"R² del modelo optimizado:\", r2_best)\n"
   ]
  },
  {
   "cell_type": "code",
   "execution_count": null,
   "metadata": {},
   "outputs": [
    {
     "name": "stdout",
     "output_type": "stream",
     "text": [
      "1. Característica: Health (Life Expectancy) (Importancia: 0.29159933702799695)\n",
      "2. Característica: Economy (GDP per Capita) (Importancia: 0.2884084456453942)\n",
      "3. Característica: Social support (Importancia: 0.14561332537483956)\n",
      "4. Característica: Freedom (Importancia: 0.11995972162382947)\n",
      "5. Característica: Trust (Government Corruption) (Importancia: 0.07940218541105797)\n",
      "6. Característica: Generosity (Importancia: 0.05960343914474325)\n",
      "7. Característica: Year (Importancia: 0.015413545772138429)\n"
     ]
    },
    {
     "ename": "IndexError",
     "evalue": "index 7 is out of bounds for axis 0 with size 7",
     "output_type": "error",
     "traceback": [
      "\u001b[1;31m---------------------------------------------------------------------------\u001b[0m",
      "\u001b[1;31mIndexError\u001b[0m                                Traceback (most recent call last)",
      "Cell \u001b[1;32mIn[14], line 9\u001b[0m\n\u001b[0;32m      7\u001b[0m \u001b[38;5;66;03m# Mostrar las características más importantes\u001b[39;00m\n\u001b[0;32m      8\u001b[0m \u001b[38;5;28;01mfor\u001b[39;00m f \u001b[38;5;129;01min\u001b[39;00m \u001b[38;5;28mrange\u001b[39m(X\u001b[38;5;241m.\u001b[39mshape[\u001b[38;5;241m0\u001b[39m]):\n\u001b[1;32m----> 9\u001b[0m     \u001b[38;5;28mprint\u001b[39m(\u001b[38;5;124mf\u001b[39m\u001b[38;5;124m\"\u001b[39m\u001b[38;5;132;01m{\u001b[39;00mf\u001b[38;5;250m \u001b[39m\u001b[38;5;241m+\u001b[39m\u001b[38;5;250m \u001b[39m\u001b[38;5;241m1\u001b[39m\u001b[38;5;132;01m}\u001b[39;00m\u001b[38;5;124m. Característica: \u001b[39m\u001b[38;5;132;01m{\u001b[39;00mX\u001b[38;5;241m.\u001b[39mcolumns[\u001b[43mindices\u001b[49m\u001b[43m[\u001b[49m\u001b[43mf\u001b[49m\u001b[43m]\u001b[49m]\u001b[38;5;132;01m}\u001b[39;00m\u001b[38;5;124m (Importancia: \u001b[39m\u001b[38;5;132;01m{\u001b[39;00mimportances[indices[f]]\u001b[38;5;132;01m}\u001b[39;00m\u001b[38;5;124m)\u001b[39m\u001b[38;5;124m\"\u001b[39m)\n",
      "\u001b[1;31mIndexError\u001b[0m: index 7 is out of bounds for axis 0 with size 7"
     ]
    }
   ],
   "source": [
    "import numpy as np\n",
    "\n",
    "# Obtener importancias de características\n",
    "importances = best_rf.feature_importances_\n",
    "indices = np.argsort(importances)[::-1]\n",
    "\n",
    "# Mostrar las características más importantes\n",
    "for f in range(X.shape[1]):\n",
    "    print(f\"{f + 1}. Característica: {X.columns[indices[f]]} (Importancia: {importances[indices[f]]})\")\n"
   ]
  },
  {
   "cell_type": "code",
   "execution_count": 15,
   "metadata": {},
   "outputs": [
    {
     "name": "stdout",
     "output_type": "stream",
     "text": [
      "R² con XGBoost: 0.888515610668252\n"
     ]
    }
   ],
   "source": [
    "from xgboost import XGBRegressor\n",
    "\n",
    "# Instanciar y ajustar el modelo XGBoost\n",
    "xgb_model = XGBRegressor(random_state=42)\n",
    "xgb_model.fit(X_train, y_train)\n",
    "y_pred_xgb = xgb_model.predict(X_test)\n",
    "r2_xgb = r2_score(y_test, y_pred_xgb)\n",
    "print(\"R² con XGBoost:\", r2_xgb)\n"
   ]
  },
  {
   "cell_type": "code",
   "execution_count": null,
   "metadata": {},
   "outputs": [],
   "source": [
    "from sklearn.preprocessing import StandardScaler\n",
    "\n",
    "scaler = StandardScaler()\n",
    "X_scaled = scaler.fit_transform(X)\n",
    "\n",
    "# Ahora usa X_scaled en lugar de X para tus modelos\n"
   ]
  },
  {
   "cell_type": "code",
   "execution_count": 10,
   "metadata": {},
   "outputs": [
    {
     "name": "stdout",
     "output_type": "stream",
     "text": [
      "R² promedio con validación cruzada: 0.7941562526576961\n"
     ]
    }
   ],
   "source": [
    "from sklearn.model_selection import cross_val_score\n",
    "\n",
    "cross_val_scores = cross_val_score(best_rf, X, y, cv=5, scoring='r2')\n",
    "print(\"R² promedio con validación cruzada:\", np.mean(cross_val_scores))\n"
   ]
  }
 ],
 "metadata": {
  "kernelspec": {
   "display_name": "Python 3",
   "language": "python",
   "name": "python3"
  },
  "language_info": {
   "codemirror_mode": {
    "name": "ipython",
    "version": 3
   },
   "file_extension": ".py",
   "mimetype": "text/x-python",
   "name": "python",
   "nbconvert_exporter": "python",
   "pygments_lexer": "ipython3",
   "version": "3.11.5"
  }
 },
 "nbformat": 4,
 "nbformat_minor": 2
}
