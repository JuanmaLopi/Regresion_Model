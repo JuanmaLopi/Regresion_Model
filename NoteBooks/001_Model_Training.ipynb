{
 "cells": [
  {
   "cell_type": "markdown",
   "metadata": {},
   "source": [
    "### Evaluación de Modelos de Regresión\n",
    "\n",
    "En esta sección, se evalúan varios modelos de regresión para predecir la \"Happiness Score\" utilizando un conjunto de características. Los modelos incluyen regresión lineal, regresión Ridge, Lasso, ElasticNet, K-Nearest Neighbors (KNN), Random Forest y XGBoost. Se realiza la codificación One-Hot para la columna \"Country\" y luego se divide el conjunto de datos en entrenamiento y prueba utilizando `train_test_split`. Posteriormente, se entrena y evalúa cada modelo en función de su desempeño, medido por el R2 Score, para determinar cuál es el mejor modelo.\n",
    "\n",
    "### Proceso:\n",
    "1. **Codificación One-Hot**: Se convierte la columna \"Country\" en variables dummy (0 o 1), eliminando la primera categoría para evitar la multicolinealidad.\n",
    "2. **Separación de características y variable objetivo**: Se separan las columnas de las características (`X`) y la variable objetivo (`y`), que es \"Happiness Score\".\n",
    "3. **División de datos**: El conjunto de datos se divide en entrenamiento (70%) y prueba (30%) utilizando `train_test_split`.\n",
    "4. **Evaluación de los modelos**: Se entrenan y evalúan los siguientes modelos:\n",
    "   - **Linear Regression**\n",
    "   - **Ridge Regression**\n",
    "   - **Lasso Regression**\n",
    "   - **ElasticNet Regression**\n",
    "   - **K-Nearest Neighbors Regression**\n",
    "   - **Random Forest Regression**\n",
    "   - **XGBoost Regression**\n",
    "5. **Cálculo del R2 Score**: Para cada modelo, se calcula el R2 Score en el conjunto de prueba para medir su capacidad predictiva.\n",
    "6. **Selección del mejor modelo**: Se identifica el modelo con el mejor R2 Score.\n"
   ]
  },
  {
   "cell_type": "code",
   "execution_count": null,
   "metadata": {},
   "outputs": [
    {
     "name": "stdout",
     "output_type": "stream",
     "text": [
      "Linear Regression: R2 Score = 0.9392\n",
      "Ridge Regression: R2 Score = 0.9280\n",
      "Lasso Regression: R2 Score = 0.6092\n",
      "Elastic Net Regression: R2 Score = 0.6485\n",
      "K-Nearest Neighbors Regression: R2 Score = 0.8527\n",
      "Random Forest Regression: R2 Score = 0.8538\n",
      "XGBoost Regression: R2 Score = 0.8758\n",
      "\n",
      "Best model: Linear Regression with R2 Score = 0.9392\n"
     ]
    }
   ],
   "source": [
    "import pandas as pd\n",
    "from sklearn.model_selection import train_test_split\n",
    "from sklearn.linear_model import LinearRegression, Ridge, Lasso, ElasticNet\n",
    "from sklearn.neighbors import KNeighborsRegressor\n",
    "from sklearn.ensemble import RandomForestRegressor\n",
    "from xgboost import XGBRegressor\n",
    "from sklearn.metrics import r2_score\n",
    "\n",
    "# Cargar los datos\n",
    "file_path = '../data/Model_Data.csv'\n",
    "data = pd.read_csv(file_path)\n",
    "\n",
    "# Realizar codificación one-hot para la columna 'Country'\n",
    "data = pd.get_dummies(data, columns=['Country'], drop_first=True)\n",
    "\n",
    "# Separar las características (X) y la variable objetivo (y)\n",
    "X = data.drop(columns=['Happiness Score'])\n",
    "y = data['Happiness Score']\n",
    "\n",
    "# Dividir el conjunto de datos en entrenamiento y prueba\n",
    "X_train, X_test, y_train, y_test = train_test_split(X, y, test_size=0.3, random_state=42)\n",
    "\n",
    "# Definir los modelos a evaluar\n",
    "models = {\n",
    "    \"Linear Regression\": LinearRegression(),\n",
    "    \"Ridge Regression\": Ridge(alpha=1.0),\n",
    "    \"Lasso Regression\": Lasso(alpha=0.1),\n",
    "    \"Elastic Net Regression\": ElasticNet(alpha=0.1, l1_ratio=0.5),\n",
    "    \"K-Nearest Neighbors Regression\": KNeighborsRegressor(n_neighbors=5),\n",
    "    \"Random Forest Regression\": RandomForestRegressor(n_estimators=100, random_state=42),\n",
    "    \"XGBoost Regression\": XGBRegressor(n_estimators=100, random_state=42)\n",
    "}\n",
    "\n",
    "# Evaluación de modelos\n",
    "results = {}\n",
    "best_model_name = None\n",
    "best_model = None\n",
    "best_r2_score = float('-inf')\n",
    "\n",
    "for model_name, model in models.items():\n",
    "    model.fit(X_train, y_train)\n",
    "    y_pred = model.predict(X_test)\n",
    "    r2 = r2_score(y_test, y_pred)\n",
    "    results[model_name] = {\"R2 Score\": r2}\n",
    "    \n",
    "    # Verificar si este modelo tiene el mejor R2 score\n",
    "    if r2 > best_r2_score:\n",
    "        best_r2_score = r2\n",
    "        best_model = model\n",
    "        best_model_name = model_name\n",
    "\n",
    "# Imprimir los resultados de R2 para cada modelo\n",
    "for model_name, metrics in results.items():\n",
    "    print(f\"{model_name}: R2 Score = {metrics['R2 Score']:.4f}\")\n",
    "\n",
    "print(f\"\\nBest model: {best_model_name} with R2 Score = {best_r2_score:.4f}\")\n"
   ]
  },
  {
   "cell_type": "markdown",
   "metadata": {},
   "source": [
    "# Evaluación de Modelos de Regresión\n",
    "\n",
    "Este código entrena y evalúa varios modelos de regresión utilizando un conjunto de datos, preprocesando las características adecuadamente, y selecciona el mejor modelo basado en el R² Score.\n"
   ]
  },
  {
   "cell_type": "code",
   "execution_count": 20,
   "metadata": {},
   "outputs": [
    {
     "name": "stdout",
     "output_type": "stream",
     "text": [
      "\n",
      "Modelo: Linear Regression\n",
      "R^2 Score: 0.9495858523063235\n",
      "\n",
      "Modelo: Random Forest\n",
      "R^2 Score: 0.8486986222615859\n",
      "\n",
      "Modelo: Gradient Boosting\n",
      "R^2 Score: 0.842152498124545\n",
      "\n",
      "Modelo: AdaBoost\n",
      "R^2 Score: 0.7726456924117253\n",
      "\n",
      "Modelo: Support Vector Regression\n",
      "R^2 Score: 0.9237282170578003\n",
      "\n",
      "Modelo: K-Nearest Neighbors\n",
      "R^2 Score: 0.8937572721799011\n",
      "\n",
      "Best model: Linear Regression with R2 Score = 0.9496\n"
     ]
    }
   ],
   "source": [
    "import pandas as pd\n",
    "import pickle\n",
    "from sklearn.model_selection import train_test_split\n",
    "from sklearn.linear_model import LinearRegression\n",
    "from sklearn.ensemble import RandomForestRegressor, GradientBoostingRegressor, AdaBoostRegressor\n",
    "from sklearn.svm import SVR\n",
    "from sklearn.neighbors import KNeighborsRegressor\n",
    "from sklearn.metrics import r2_score\n",
    "from sklearn.preprocessing import OneHotEncoder\n",
    "from sklearn.compose import ColumnTransformer\n",
    "from sklearn.pipeline import Pipeline\n",
    "from sklearn.impute import SimpleImputer\n",
    "\n",
    "# Cargar los datos\n",
    "data = pd.read_csv('../data/Model_Data.csv')\n",
    "\n",
    "# Definir las características y la variable objetivo\n",
    "X = data.drop(columns=['Happiness Score'])\n",
    "y = data['Happiness Score']\n",
    "\n",
    "# Preprocesar los datos: aplicar One-Hot Encoding a la columna 'Country' y escalar el resto\n",
    "preprocessor = ColumnTransformer(\n",
    "    transformers=[\n",
    "        ('country', OneHotEncoder(handle_unknown='ignore'), ['Country']),  # Codificar la columna 'Country' y manejar categorías desconocidas\n",
    "        ('num', SimpleImputer(strategy='mean'), X.columns.difference(['Country', 'Year']))  # Imputar valores faltantes para otras columnas numéricas\n",
    "    ])\n",
    "\n",
    "# Crear un diccionario de modelos\n",
    "models = {\n",
    "    'Linear Regression': LinearRegression(),\n",
    "    'Random Forest': RandomForestRegressor(random_state=42),\n",
    "    'Gradient Boosting': GradientBoostingRegressor(random_state=42),\n",
    "    'AdaBoost': AdaBoostRegressor(random_state=42),\n",
    "    'Support Vector Regression': SVR(),\n",
    "    'K-Nearest Neighbors': KNeighborsRegressor()\n",
    "}\n",
    "\n",
    "# Dividir los datos en entrenamiento y prueba (80% entrenamiento, 20% prueba)\n",
    "X_train, X_test, y_train, y_test = train_test_split(X, y, test_size=0.3, random_state=42)\n",
    "\n",
    "# Variables para almacenar el mejor modelo y su rendimiento\n",
    "best_model = None\n",
    "best_r2 = float('-inf')  # Inicializamos con el peor valor posible para R^2\n",
    "best_model_name = \"\"  # Para almacenar el nombre del mejor modelo\n",
    "\n",
    "# Entrenar y evaluar cada modelo\n",
    "for model_name, model in models.items():\n",
    "    # Crear un pipeline para cada modelo\n",
    "    pipeline = Pipeline(steps=[\n",
    "        ('preprocessor', preprocessor),\n",
    "        ('regressor', model)\n",
    "    ])\n",
    "    \n",
    "    # Entrenar el modelo\n",
    "    pipeline.fit(X_train, y_train)\n",
    "    \n",
    "    # Hacer predicciones\n",
    "    y_pred = pipeline.predict(X_test)\n",
    "    \n",
    "    # Evaluar el modelo\n",
    "    r2 = r2_score(y_test, y_pred)\n",
    "    \n",
    "    print(f'\\nModelo: {model_name}')\n",
    "    print(f'R^2 Score: {r2}')\n",
    "    \n",
    "    # Si el modelo actual es el mejor, lo guardamos\n",
    "    if r2 > best_r2:\n",
    "        best_r2 = r2\n",
    "        best_model = pipeline\n",
    "        best_model_name = model_name\n",
    "\n",
    "print(f\"\\nBest model: {best_model_name} with R2 Score = {best_r2:.4f}\")\n",
    "\n"
   ]
  },
  {
   "cell_type": "markdown",
   "metadata": {},
   "source": [
    "## Guardar el Mejor Modelo en un Archivo `.pkl`\n",
    "\n",
    "Una vez que se ha entrenado y evaluado el modelo, es posible guardar el mejor modelo en un archivo `.pkl` para poder usarlo más adelante sin necesidad de volver a entrenarlo.\n"
   ]
  },
  {
   "cell_type": "code",
   "execution_count": 21,
   "metadata": {},
   "outputs": [
    {
     "name": "stdout",
     "output_type": "stream",
     "text": [
      "Modelo guardado exitosamente en 'Model/Regression_Model'\n"
     ]
    }
   ],
   "source": [
    "# Guardar el mejor modelo en un archivo .pkl\n",
    "with open('../Model/Regression_Model.pkl', 'wb') as file:\n",
    "    pickle.dump(best_model, file)\n",
    "\n",
    "print(\"Modelo guardado exitosamente en 'Model/Regression_Model'\")"
   ]
  }
 ],
 "metadata": {
  "kernelspec": {
   "display_name": "Python 3",
   "language": "python",
   "name": "python3"
  },
  "language_info": {
   "codemirror_mode": {
    "name": "ipython",
    "version": 3
   },
   "file_extension": ".py",
   "mimetype": "text/x-python",
   "name": "python",
   "nbconvert_exporter": "python",
   "pygments_lexer": "ipython3",
   "version": "3.11.5"
  }
 },
 "nbformat": 4,
 "nbformat_minor": 2
}
