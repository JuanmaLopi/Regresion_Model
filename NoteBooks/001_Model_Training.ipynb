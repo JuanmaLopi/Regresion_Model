{
 "cells": [
  {
   "cell_type": "code",
   "execution_count": null,
   "metadata": {},
   "outputs": [
    {
     "name": "stdout",
     "output_type": "stream",
     "text": [
      "Linear Regression: R2 Score = 0.9393\n",
      "Ridge Regression: R2 Score = 0.9243\n",
      "Lasso Regression: R2 Score = 0.6249\n",
      "Elastic Net Regression: R2 Score = 0.6632\n",
      "K-Nearest Neighbors Regression: R2 Score = 0.8548\n",
      "Random Forest Regression: R2 Score = 0.8415\n",
      "XGBoost Regression: R2 Score = 0.8750\n",
      "\n",
      "Best model: Linear Regression with R2 Score = 0.9393\n"
     ]
    }
   ],
   "source": [
    "import pandas as pd\n",
    "from sklearn.model_selection import train_test_split\n",
    "from sklearn.linear_model import LinearRegression, Ridge, Lasso, ElasticNet\n",
    "from sklearn.neighbors import KNeighborsRegressor\n",
    "from sklearn.ensemble import RandomForestRegressor\n",
    "from xgboost import XGBRegressor\n",
    "from sklearn.metrics import r2_score\n",
    "\n",
    "file_path = '../data/Model_Data.csv'\n",
    "data = pd.read_csv(file_path)\n",
    "\n",
    "data = pd.get_dummies(data, columns=['Country'], drop_first=True)\n",
    "\n",
    "X = data.drop(columns=['Happiness Score'])\n",
    "y = data['Happiness Score']\n",
    "\n",
    "X_train, X_test, y_train, y_test = train_test_split(X, y, test_size=0.2, random_state=42)\n",
    "\n",
    "models = {\n",
    "    \"Linear Regression\": LinearRegression(),\n",
    "    \"Ridge Regression\": Ridge(alpha=1.0),\n",
    "    \"Lasso Regression\": Lasso(alpha=0.1),\n",
    "    \"Elastic Net Regression\": ElasticNet(alpha=0.1, l1_ratio=0.5),\n",
    "    \"K-Nearest Neighbors Regression\": KNeighborsRegressor(n_neighbors=5),\n",
    "    \"Random Forest Regression\": RandomForestRegressor(n_estimators=100, random_state=42),\n",
    "    \"XGBoost Regression\": XGBRegressor(n_estimators=100, random_state=42)\n",
    "}\n",
    "\n",
    "results = {}\n",
    "best_model_name = None\n",
    "best_model = None\n",
    "best_r2_score = float('-inf')\n",
    "\n",
    "for model_name, model in models.items():\n",
    "    model.fit(X_train, y_train)\n",
    "    y_pred = model.predict(X_test)\n",
    "    r2 = r2_score(y_test, y_pred)\n",
    "    results[model_name] = {\"R2 Score\": r2}\n",
    "    \n",
    "    # Check if this model has the best R2 score\n",
    "    if r2 > best_r2_score:\n",
    "        best_r2_score = r2\n",
    "        best_model = model\n",
    "        best_model_name = model_name\n",
    "\n",
    "# Imprime los resultados\n",
    "for model_name, metrics in results.items():\n",
    "    print(f\"{model_name}: R2 Score = {metrics['R2 Score']:.4f}\")\n",
    "\n",
    "print(f\"\\nBest model: {best_model_name} with R2 Score = {best_r2_score:.4f}\")"
   ]
  },
  {
   "cell_type": "code",
   "execution_count": 19,
   "metadata": {},
   "outputs": [
    {
     "name": "stdout",
     "output_type": "stream",
     "text": [
      "Best model saved as 'Regression_Model.pkl'\n"
     ]
    }
   ],
   "source": [
    "import joblib\n",
    "\n",
    "# Guardar el mejor modelo\n",
    "joblib.dump(best_model, '../Model/Regression_Model.pkl')\n",
    "print(\"Best model saved as 'Regression_Model.pkl'\")"
   ]
  }
 ],
 "metadata": {
  "kernelspec": {
   "display_name": "Python 3",
   "language": "python",
   "name": "python3"
  },
  "language_info": {
   "codemirror_mode": {
    "name": "ipython",
    "version": 3
   },
   "file_extension": ".py",
   "mimetype": "text/x-python",
   "name": "python",
   "nbconvert_exporter": "python",
   "pygments_lexer": "ipython3",
   "version": "3.11.5"
  }
 },
 "nbformat": 4,
 "nbformat_minor": 2
}
