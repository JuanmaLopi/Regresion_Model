{
 "cells": [
  {
   "cell_type": "markdown",
   "metadata": {},
   "source": [
    "## Regression Model Evaluation\n",
    "\n",
    "In this section, various regression models are evaluated to predict the \"Happiness Score\" using a set of features. The models include linear regression, Random Forest, Gradient Boosting Regression, AdaBoost Regression, Support Vector Regression (SVR), K-Nearest Neighbors (KNN). One-Hot encoding is applied to the \"Country\" column, and the dataset is split into training and test sets using train_test_split. Each model is then trained and evaluated based on its performance, measured by the R2 Score, to determine which is the best model.\n",
    "\n",
    "### Process:\n",
    "1. **One-Hot Encoding**: The \"Country\" column is converted into dummy variables (0 or 1), with the first category dropped to avoid multicollinearity.\n",
    "2. **Feature and Target Separation**: The features (X) and the target variable (y), which is the \"Happiness Score,\" are separated.\n",
    "3. **Data Split**: The dataset is divided into training (70%) and testing (30%) sets using train_test_split.\n",
    "4. **Model Evaluation**: The following models are trained and evaluated:\n",
    "   - **Linear Regression**\n",
    "   - **Random Forest Regression**\n",
    "   - **Gradient Boosting Regression**\n",
    "   - **AdaBoost Regression**\n",
    "   - **Support Vector Regression (SVR)**\n",
    "   - **K-Nearest Neighbors Regression**\n",
    "5. **R2 Score Calculation**: For each model, the R2 Score on the test set is calculated to measure its predictive power.\n",
    "6. **Best Model Selection**: The model with the highest R2 Score is selected as the best model.\n"
   ]
  },
  {
   "cell_type": "code",
   "execution_count": null,
   "metadata": {},
   "outputs": [
    {
     "name": "stdout",
     "output_type": "stream",
     "text": [
      "\n",
      "Model: Linear Regression\n",
      "R^2 Score: 0.9495858523063235\n",
      "\n",
      "Model: Random Forest\n",
      "R^2 Score: 0.8486986222615859\n",
      "\n",
      "Model: Gradient Boosting\n",
      "R^2 Score: 0.842152498124545\n",
      "\n",
      "Model: AdaBoost\n",
      "R^2 Score: 0.7726456924117253\n",
      "\n",
      "Model: Support Vector Regression\n",
      "R^2 Score: 0.9237282170578003\n",
      "\n",
      "Model: K-Nearest Neighbors\n",
      "R^2 Score: 0.8937572721799011\n",
      "\n",
      "Best model: Linear Regression with R2 Score = 0.9496\n"
     ]
    }
   ],
   "source": [
    "import pandas as pd\n",
    "import pickle\n",
    "from sklearn.model_selection import train_test_split\n",
    "from sklearn.linear_model import LinearRegression\n",
    "from sklearn.ensemble import RandomForestRegressor, GradientBoostingRegressor, AdaBoostRegressor\n",
    "from sklearn.svm import SVR\n",
    "from sklearn.neighbors import KNeighborsRegressor\n",
    "from sklearn.metrics import r2_score\n",
    "from sklearn.preprocessing import OneHotEncoder\n",
    "from sklearn.compose import ColumnTransformer\n",
    "from sklearn.pipeline import Pipeline\n",
    "from sklearn.impute import SimpleImputer\n",
    "\n",
    "# Load the data\n",
    "data = pd.read_csv('../data/Model_Data.csv')\n",
    "\n",
    "# Define features and target variable\n",
    "X = data.drop(columns=['Happiness Score'])\n",
    "y = data['Happiness Score']\n",
    "\n",
    "# Preprocess the data: apply One-Hot Encoding to the 'Country' column and scale the rest\n",
    "preprocessor = ColumnTransformer(\n",
    "    transformers=[\n",
    "        ('country', OneHotEncoder(handle_unknown='ignore'), ['Country']), \n",
    "        ('num', SimpleImputer(strategy='mean'), X.columns.difference(['Country', 'Year'])) \n",
    "    ])\n",
    "\n",
    "# Create a dictionary of models\n",
    "models = {\n",
    "    'Linear Regression': LinearRegression(),\n",
    "    'Random Forest': RandomForestRegressor(random_state=42),\n",
    "    'Gradient Boosting': GradientBoostingRegressor(random_state=42),\n",
    "    'AdaBoost': AdaBoostRegressor(random_state=42),\n",
    "    'Support Vector Regression': SVR(),\n",
    "    'K-Nearest Neighbors': KNeighborsRegressor()\n",
    "}\n",
    "\n",
    "# Split the data into training and testing sets (70% training, 30% testing)\n",
    "X_train, X_test, y_train, y_test = train_test_split(X, y, test_size=0.3, random_state=42)\n",
    "\n",
    "# Variables to store the best model and its performance\n",
    "best_model = None\n",
    "best_r2 = float('-inf')  \n",
    "best_model_name = \"\" \n",
    "\n",
    "# Train and evaluate each model\n",
    "for model_name, model in models.items():\n",
    "    pipeline = Pipeline(steps=[\n",
    "        ('preprocessor', preprocessor),\n",
    "        ('regressor', model)\n",
    "    ])\n",
    "    \n",
    "    pipeline.fit(X_train, y_train)\n",
    "    \n",
    "    y_pred = pipeline.predict(X_test)\n",
    "    \n",
    "    r2 = r2_score(y_test, y_pred)\n",
    "    \n",
    "    print(f'\\nModel: {model_name}')\n",
    "    print(f'R^2 Score: {r2}')\n",
    "    \n",
    "    if r2 > best_r2:\n",
    "        best_r2 = r2\n",
    "        best_model = pipeline\n",
    "        best_model_name = model_name\n",
    "\n",
    "print(f\"\\nBest model: {best_model_name} with R2 Score = {best_r2:.4f}\")\n"
   ]
  },
  {
   "cell_type": "markdown",
   "metadata": {},
   "source": [
    "## Save the Best Model to a .pkl File\n",
    "\n",
    "Once the model has been trained and evaluated, you can save the best model to a .pkl file to use it later without needing to retrain it."
   ]
  },
  {
   "cell_type": "code",
   "execution_count": 2,
   "metadata": {},
   "outputs": [
    {
     "name": "stdout",
     "output_type": "stream",
     "text": [
      "Model successfully saved to 'Model/Regression_Model.pkl'\n"
     ]
    }
   ],
   "source": [
    "# Save the best model to a .pkl file\n",
    "with open('../Model/Regression_Model.pkl', 'wb') as file:\n",
    "    pickle.dump(best_model, file)\n",
    "\n",
    "print(\"Model successfully saved to 'Model/Regression_Model.pkl'\")\n"
   ]
  }
 ],
 "metadata": {
  "kernelspec": {
   "display_name": "Python 3",
   "language": "python",
   "name": "python3"
  },
  "language_info": {
   "codemirror_mode": {
    "name": "ipython",
    "version": 3
   },
   "file_extension": ".py",
   "mimetype": "text/x-python",
   "name": "python",
   "nbconvert_exporter": "python",
   "pygments_lexer": "ipython3",
   "version": "3.11.5"
  }
 },
 "nbformat": 4,
 "nbformat_minor": 2
}
